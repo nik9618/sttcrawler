{
 "cells": [
  {
   "cell_type": "code",
   "execution_count": 2,
   "metadata": {
    "collapsed": false
   },
   "outputs": [
    {
     "name": "stdout",
     "output_type": "stream",
     "text": [
      "Main page loaded\n",
      "Logged In\n"
     ]
    }
   ],
   "source": [
    "#!/usr/bin/env python\n",
    "# -*- coding: utf-8 -*-\n",
    "import sys;\n",
    "import time;\n",
    "import json;\n",
    "from selenium import webdriver;\n",
    "import selenium\n",
    "import selenium.webdriver.support.ui as UI\n",
    "import re;\n",
    "import socket\n",
    "import urllib\n",
    "from selenium.webdriver.support.ui import WebDriverWait\n",
    "from selenium.webdriver.support import expected_conditions as EC\n",
    "from selenium.common.exceptions import TimeoutException\n",
    "import datetime\n",
    "import hashlib\n",
    "from struct import *\n",
    "\n",
    "#----- Configuration\n",
    "\n",
    "config={}\n",
    "config['username'] = 'crawler001'\n",
    "config['password'] = 'crawler001'\n",
    "config['url']      = 'https://click2win.settrade.com'\n",
    "config['APIVersion']      = '1'\n",
    "config['hourshift']      = 15 # from server to thai timezone +7 \n",
    "\n",
    "# ----- Start crawling \n",
    "path='/Users/nik9618/Desktop/Library/chromedriver';\n",
    "driver = webdriver.Chrome(path)\n",
    "driver.get(config['url'])\n",
    "print 'Main page loaded'\n",
    "sys.stdout.flush()\n",
    "time.sleep(1);\n",
    "\n",
    "# ----- Login\n",
    "userBox = driver.find_element_by_name('txtLogin')\n",
    "passBox = driver.find_element_by_name('txtPassword')\n",
    "userBox.clear()\n",
    "passBox.clear()\n",
    "userBox.send_keys(config['username'])\n",
    "passBox.send_keys(config['password'])\n",
    "elem = driver.find_element_by_class_name('input_login_submit-login');\n",
    "elem.click();\n",
    "print 'Logged In'\n",
    "sys.stdout.flush()\n",
    "time.sleep(3);\n"
   ]
  },
  {
   "cell_type": "code",
   "execution_count": 3,
   "metadata": {
    "collapsed": false
   },
   "outputs": [
    {
     "name": "stdout",
     "output_type": "stream",
     "text": [
      "Streaming Opened\n",
      "Flash Variable Generated\n"
     ]
    }
   ],
   "source": [
    "\n",
    "# ------ Generate flash variables\n",
    "driver.get('view-source:'+config['url']+'/realtime/streaming5/flash/StreamingPage.jsp')\n",
    "# print 'view-source:'+conf['url']+'/realtime/streaming5/flash/StreamingPage.jsp'\n",
    "print 'Streaming Opened'\n",
    "sys.stdout.flush()\n",
    "time.sleep(1)\n",
    "src = driver.page_source\n",
    "src = src[src.find('flashVar'):]\n",
    "src = src[src.find('{')+1:]\n",
    "src = src[0:src.find('}')]\n",
    "flashVar = {}\n",
    "src = src.split(\",\")\n",
    "for line in src:\n",
    "\tline = line.split(\":\")\n",
    "\tflashVar[urllib.unquote(line[0])] = urllib.unquote(line[1][1:-1])\n",
    "print 'Flash Variable Generated'\n",
    "sys.stdout.flush()\n",
    "time.sleep(1);"
   ]
  },
  {
   "cell_type": "code",
   "execution_count": 4,
   "metadata": {
    "collapsed": false,
    "scrolled": true
   },
   "outputs": [
    {
     "name": "stdout",
     "output_type": "stream",
     "text": [
      "time synchronized\n",
      "[u'T', u'1449853912059', u'1449853912059']\n"
     ]
    }
   ],
   "source": [
    "driver.get(config['url'] + flashVar['fvSyncTimeURL'])\n",
    "time = driver.find_element_by_tag_name('body').text.split(\"\\r\")[0].split(\"|\")\n",
    "\n",
    "thaiTime = int(time[1]) + config['hourshift']*60*60*1000\n",
    "thaiTime = thaiTime/1000\n",
    "\n",
    "print 'time synchronized'\n",
    "print time\n"
   ]
  },
  {
   "cell_type": "code",
   "execution_count": 5,
   "metadata": {
    "collapsed": false
   },
   "outputs": [
    {
     "name": "stdout",
     "output_type": "stream",
     "text": [
      "hash(12/12/2015_089_7575997) = 84b290d685d24fb7747b0db7b8795748\n",
      "[u'T', u'vmUuXNhCjcXTNLLdkCcjtw==', u'pushctw3.settrade.com', u'3000']\n"
     ]
    }
   ],
   "source": [
    "url = config['url'] + flashVar['fvGenerateKeyURL']\n",
    "key = datetime.datetime.fromtimestamp(thaiTime).strftime('%d/%m/%Y') + \"_\" + flashVar['fvBrokerId']+\"_\"+flashVar['fvUserref']\n",
    "m = hashlib.md5()\n",
    "m.update(key)\n",
    "hs = m.hexdigest()\n",
    "print \"hash(\"+key +\") = \" + hs\n",
    "script = \"\"\n",
    "script = script + 'sc=\\'\\'; sc += \\'<form id=\"dynForm\" action=\"'+url+'\" method=\"post\">\\';'\n",
    "script = script + 'sc += \\'<input type=\"hidden\" name=\"time\" value=\"'+time[1]+'\">\\';'\n",
    "script = script + 'sc += \\'<input type=\"hidden\" name=\"clientType\" value=\"'+flashVar['fvRealtimeClientType']+'\">\\';'\n",
    "script = script + 'sc += \\'<input type=\"hidden\" name=\"txtSETNET3\" value=\"'+flashVar['fvSETNET3']+'\">\\';'\n",
    "script = script + 'sc += \\'<input type=\"hidden\" name=\"APIVersion\" value=\"'+config['APIVersion']+'\">\\';'\n",
    "script = script + 'sc += \\'<input type=\"hidden\" name=\"q\" value=\"'+hs+'\">\\';'\n",
    "script = script + 'sc += \\'</form>\\';'\n",
    "script = script + 'document.body.innerHTML += sc;'\n",
    "# print script;\n",
    "\n",
    "script = script + 'document.getElementById(\"dynForm\").submit()';\n",
    "# driver.get('https://click2win.settrade.com'+flashVar['fvGenerateKeyURL'])\n",
    "# \n",
    "driver.execute_script(script)\n",
    "src = driver.find_element_by_tag_name('body').text.split(\"\\r\")[0].split(\"|\")\n",
    "print src"
   ]
  },
  {
   "cell_type": "code",
   "execution_count": 6,
   "metadata": {
    "collapsed": false
   },
   "outputs": [
    {
     "name": "stdout",
     "output_type": "stream",
     "text": [
      "pushctw3.settrade.com\n",
      "202.60.196.167\n",
      "3000\n"
     ]
    }
   ],
   "source": [
    "s = socket.socket(socket.AF_INET, socket.SOCK_STREAM)\n",
    "dns = socket.gethostbyname_ex(src[2]);\n",
    "host = dns[2][0];\n",
    "port = int(src[3])\n",
    "conn = s.connect((host, port))\n",
    "\n",
    "# print conn\n",
    "print src[2]\n",
    "# print dns\n",
    "print host\n",
    "print port\n",
    "s.setsockopt(socket.IPPROTO_TCP, socket.TCP_NODELAY, 1)"
   ]
  },
  {
   "cell_type": "code",
   "execution_count": 7,
   "metadata": {
    "collapsed": false
   },
   "outputs": [
    {
     "name": "stdout",
     "output_type": "stream",
     "text": [
      "61\n",
      "7575997|089|vmUuXNhCjcXTNLLdkCcjtw==|1449853915372|gen5sc1|1\n",
      "\n"
     ]
    }
   ],
   "source": [
    "ss = flashVar['fvUserref']+\"|\"+flashVar['fvBrokerId']+\"|\"+src[1]+\"|\" + str(int(time[1])+3313) + \"|gen5sc1|1\\n\"\n",
    "print s.send(ss)\n",
    "print ss;"
   ]
  },
  {
   "cell_type": "code",
   "execution_count": 8,
   "metadata": {
    "collapsed": false
   },
   "outputs": [
    {
     "name": "stdout",
     "output_type": "stream",
     "text": [
      "75\n"
     ]
    }
   ],
   "source": [
    "# print s.send(\"REG|5\\n\")\n",
    "# print s.send(\"REG|4^N~N^N~N^E~D^E~D\\n\")\n",
    "\n",
    "print s.send(\"REG|1^AOT~AAV~NOK~THAI~MINT~SUSCO~KTC~DTAC~INTUCH~TKN^^S~S~S~S~S~S~S~S~S~S\\n\")\n",
    "\n",
    "\n",
    "\n",
    "# print s.send(\"REG|1^^^M\\n\")\n",
    "# print s.send(\"REG|3^^\\n\")\n",
    "# print s.send(\"REG|5\\n\")\n",
    "# print s.send(\"REG|4^^N~N^^E~D\\n\")\n",
    "# print s.send(\"REG|1^^^M\\n\")\n",
    "# print s.send(\"REG|3^^\\n\")\n",
    "# print s.send(\"REG|5\\n\")\n",
    "\n",
    "# print s.send(\"REG|3^^\\n\")\n"
   ]
  },
  {
   "cell_type": "code",
   "execution_count": null,
   "metadata": {
    "collapsed": false,
    "scrolled": true
   },
   "outputs": [],
   "source": [
    "# service 5 >>> market summary\n",
    "service = unpack('>B',msg[0])[0];\n",
    "config = unpack('>B',msg[1])[0];\n",
    "flag = unpack('>B',msg[2])[0];\n",
    "\n",
    "print \"service : \"+ str(service);\n",
    "print \"config : \"+ str(config);\n",
    "print \"flag : \"+ str(flag);\n",
    "\n",
    "pos=3\n",
    "total = {}\n",
    "read=4; div=2; total['setIndex'] = unpack('>I',msg[pos:pos+read])[0]/pow(10.,div); pos+=read;\n",
    "read=4; div=2; total['setHigh'] = unpack('>I',msg[pos:pos+read])[0]/pow(10.,div); pos+=read;\n",
    "read=4; div=2; total['setLow'] = unpack('>I',msg[pos:pos+read])[0]/pow(10.,div); pos+=read;\n",
    "\n",
    "read=2; div=2; total['setChange'] = unpack('>h',msg[pos:pos+read])[0]/pow(10.,div); pos+=read;\n",
    "read=2; div=2; total['setHighChange'] = unpack('>h',msg[pos:pos+read])[0]/pow(10.,div); pos+=read;\n",
    "read=2; div=2; total['setLowChange'] = unpack('>h',msg[pos:pos+read])[0]/pow(10.,div); pos+=read;\n",
    "\n",
    "read=4; div=2; total['setTotalValue'] = unpack('>I',msg[pos:pos+read])[0]/pow(10.,div); pos+=read;\n",
    "read=8; div=0; total['setTotalVolume'] = unpack('>Q',msg[pos:pos+read])[0]/pow(10.,div); pos+=read;\n",
    "\n",
    "read=2; div=0; total['setGainers'] = unpack('>H',msg[pos:pos+read])[0]/pow(10.,div); pos+=read;\n",
    "read=2; div=0; total['setLosers'] = unpack('>H',msg[pos:pos+read])[0]/pow(10.,div); pos+=read;\n",
    "read=2; div=0; total['setUnchanged'] = unpack('>H',msg[pos:pos+read])[0]/pow(10.,div); pos+=read;\n",
    "\n",
    "read=1; div=0; size = unpack('>B',msg[pos:pos+read])[0]; pos+=read;\n",
    "read=size; div=0; total['setStatus'] = ''.join(msg[pos:pos+read]); pos+=read;\n",
    "\n",
    "print total\n"
   ]
  },
  {
   "cell_type": "code",
   "execution_count": 9,
   "metadata": {
    "collapsed": false
   },
   "outputs": [],
   "source": [
    "# service x >>> parseInfo :: bids offers\n",
    "size = s.recv(2)\n",
    "size = unpack('>H',size)[0]\n",
    "msg = s.recv(size)\n",
    "    \n",
    "    \n",
    "    \n",
    "    "
   ]
  },
  {
   "cell_type": "code",
   "execution_count": 11,
   "metadata": {
    "collapsed": false
   },
   "outputs": [
    {
     "name": "stdout",
     "output_type": "stream",
     "text": [
      "{'sob': 0, 'loi': 0, 'ios': 0, 'iosV': 0}\n",
      "\u0000\u0001�\n",
      "0\n",
      "0\n",
      "0\n",
      "0\n",
      "0\n",
      "0\n"
     ]
    }
   ],
   "source": [
    "# REQUIREMENT\n",
    "# - it has to be an instrument i.e. no .ARGI\n",
    "\n",
    "service = unpack('>B',msg[0])[0];\n",
    "configByte = unpack('>B',msg[1])[0];\n",
    "\n",
    "conf = {};\n",
    "conf['iosV'] = (configByte>>3) & 1\n",
    "conf['loi'] = (configByte>>2) & 1\n",
    "conf['ios'] = (configByte>>1) & 1\n",
    "conf['sob'] = (configByte>>0) & 1\n",
    "\n",
    "print conf;\n",
    "pos=2;\n",
    "\n",
    "def readIOSV(conf,m,p,d=0,unsigned=True):\n",
    "    if(unsigned):\n",
    "        if(conf['iosV'] == 1):\n",
    "            pos=p; read=2; div=d; ans = unpack('>H',msg[pos:pos+read])[0]/pow(10.,div); pos+=read;\n",
    "        else:\n",
    "            pos=p; read=4; div=d; ans = unpack('>I',msg[pos:pos+read])[0]/pow(10.,div); pos+=read;\n",
    "    else:\n",
    "        if(conf['iosV'] == 1):\n",
    "            pos=p; read=2; div=d; ans = unpack('>h',msg[pos:pos+read])[0]/pow(10.,div); pos+=read;\n",
    "        else:\n",
    "            pos=p; read=4; div=d; ans = unpack('>i',msg[pos:pos+read])[0]/pow(10.,div); pos+=read;\n",
    "    if(d==0):\n",
    "        return (pos,int(ans))\n",
    "    else:\n",
    "        return (pos,ans)\n",
    "    \n",
    "\n",
    "def readLOI(conf,m,p,d=0,unsigned=True):\n",
    "    if(unsigned):\n",
    "        if(conf['loi'] == 1):\n",
    "            pos=p; read=8; div=d; ans = unpack('>Q',msg[pos:pos+read])[0]/pow(10.,div); pos+=read;\n",
    "        else:\n",
    "            pos=p; read=4; div=d; ans = unpack('>I',msg[pos:pos+read])[0]/pow(10.,div); pos+=read;\n",
    "    else:\n",
    "        if(conf['loi'] == 1):\n",
    "            pos=p; read=8; div=d; ans = unpack('>q',msg[pos:pos+read])[0]/pow(10.,div); pos+=read;\n",
    "        else:\n",
    "            pos=p; read=4; div=d; ans = unpack('>i',msg[pos:pos+read])[0]/pow(10.,div); pos+=read;\n",
    "    if(d==0):\n",
    "        return (pos,int(ans))\n",
    "    else:\n",
    "        return (pos,ans)\n",
    "\n",
    "def readIOS(conf,m,p,d=0,unsigned=True):\n",
    "    if(unsigned):\n",
    "        if(conf['ios'] == 1):\n",
    "            pos=p; read=4; div=d; ans = unpack('>I',msg[pos:pos+read])[0]/pow(10.,div); pos+=read;\n",
    "        else:\n",
    "            pos=p; read=2; div=d; ans = unpack('>H',msg[pos:pos+read])[0]/pow(10.,div); pos+=read; \n",
    "    else:\n",
    "        if(conf['ios'] == 1):\n",
    "            pos=p; read=4; div=d; ans = unpack('>i',msg[pos:pos+read])[0]/pow(10.,div); pos+=read;\n",
    "        else:\n",
    "            pos=p; read=2; div=d; ans = unpack('>h',msg[pos:pos+read])[0]/pow(10.,div); pos+=read;\n",
    "    if(d==0):\n",
    "        return (pos,int(ans))\n",
    "    else:\n",
    "        return (pos,ans)\n",
    "\n",
    "def readSOB(conf,m,p,d=0,unsigned=True):\n",
    "    if(unsigned):\n",
    "        if(conf['sob'] == 1):\n",
    "            pos=p; read=2; div=d; ans = unpack('>H',msg[pos:pos+read])[0]/pow(10.,div); pos+=read;\n",
    "        else:\n",
    "            pos=p; read=1; div=d; ans = unpack('>B',msg[pos:pos+read])[0]/pow(10.,div); pos+=read;\n",
    "    else:\n",
    "        if(conf['sob'] == 1):\n",
    "            pos=p; read=2; div=d; ans = unpack('>h',msg[pos:pos+read])[0]/pow(10.,div); pos+=read;\n",
    "        else:\n",
    "            pos=p; read=1; div=d; ans = unpack('>b',msg[pos:pos+read])[0]/pow(10.,div); pos+=read;\n",
    "    if(d==0):\n",
    "        return (pos,int(ans))\n",
    "    else:\n",
    "        return (pos,ans)\n",
    "\n",
    "def readByte(m,p,unsigned=True):\n",
    "    if(unsigned):\n",
    "        pos=p; read=1; ans = unpack('>B',msg[pos:pos+read])[0]; pos+=read;\n",
    "    else:\n",
    "        pos=p; read=1; ans = unpack('>b',msg[pos:pos+read])[0]; pos+=read;\n",
    "    return (pos,ans)\n",
    "\n",
    "def readString(m,p,size):\n",
    "    pos=p; read=size; div=0; ans = ''.join(msg[pos:pos+read]); pos+=read;\n",
    "    return (pos,ans)\n",
    "\n",
    "\n",
    "(pos,size) = readByte(msg,pos);\n",
    "(pos,instrument) = readString(msg,pos,size);\n",
    "(pos,instrumentType) = readByte(msg,pos);\n",
    "print instrument\n",
    "instSubtype = -1\n",
    "if(instrumentType==0): # 0 = equity\n",
    "    (pos,instSubType) = readByte(msg,pos,unsigned=False);\n",
    "\n",
    "priceDigit = 2;\n",
    "settleDigit = 2;\n",
    "\n",
    "if (instrumentType==1 or instrumentType==2): # 1 = futures 2 = options\n",
    "    (pos,priceDigit) = readByte(msg,pos);\n",
    "    (pos,settleDigit) = readByte(msg,pos);\n",
    "\n",
    "(pos,flag) = readByte(msg,pos);\n",
    "\n",
    "hasInitMarket = (flag >> 5) & 1;\n",
    "hasInitIntraday = (flag >> 4) & 1;\n",
    "hasInitStat = (flag >> 3) & 1;\n",
    "hasSummary = (flag >> 2) & 1;\n",
    "hasBidOffer = (flag >> 1) & 1;\n",
    "hasProjected = (flag >> 0) & 1;\n",
    "\n",
    "\n",
    "print hasInitMarket\n",
    "print hasInitIntraday\n",
    "print hasInitStat\n",
    "print hasSummary\n",
    "print hasBidOffer\n",
    "print hasProjected\n",
    "\n",
    "if(hasInitMarket == 1):\n",
    "    (pos,previousClose) = readIOS(conf,msg,pos,priceDigit);\n",
    "    (pos,high) = readIOS(conf,msg,pos,priceDigit);\n",
    "    (pos,low) = readIOS(conf,msg,pos,priceDigit);\n",
    "    (pos,ceiling) = readIOS(conf,msg,pos,priceDigit);\n",
    "    (pos,floor) = readIOS(conf,msg,pos,priceDigit);\n",
    "    if (instrumentType==1 or instrumentType==2): #--- is derivatives\n",
    "        spread = readIOS(conf,msg,pos,priceDigit);\n",
    "        previousSettle = readIOS(conf,msg,pos,priceDigit);\n",
    "\n",
    "if(hasInitIntraday == 1):\n",
    "    (pos,size) = readSOB(conf,msg,pos);\n",
    "    (pos,longInstName) = readString(msg,pos,size);\n",
    "    print longInstName\n",
    "    print \"omg\"\n",
    "    \n",
    "\n"
   ]
  },
  {
   "cell_type": "code",
   "execution_count": null,
   "metadata": {
    "collapsed": true
   },
   "outputs": [],
   "source": [
    "# service 4 >>> ticker parsing\n",
    "while(True):\n",
    "    size = s.recv(2)\n",
    "    size = unpack('>H',size)[0]\n",
    "    msg = s.recv(size)\n",
    "    #print msg\n",
    "    service = unpack('>B',msg[0])[0];\n",
    "    config = unpack('>B',msg[1])[0];\n",
    "    intinstrumentType = unpack('>B',msg[2])[0];\n",
    "    \n",
    "    print service\n",
    "    \n",
    "    signature = unpack('>B',msg[3])[0];\n",
    "\n",
    "    tickerSubType = (signature) & 0x0F\n",
    "    orderSide = (signature>>4) & 0x01\n",
    "    trend = (signature>>5) & 0x03\n",
    "    isSum = (signature>>7) & 0x01\n",
    "\n",
    "    iosV = config>>3 & 1\n",
    "    loi = config>>2 & 1\n",
    "    ios = config>>1 & 1\n",
    "    sob = config>>0 & 1\n",
    "\n",
    "    if(tickerSubType == 0): tickerSubType='Common'\n",
    "    elif(tickerSubType == 1): tickerSubType='Foriegn'\n",
    "    elif(tickerSubType == 2): tickerSubType='ETF'\n",
    "    elif(tickerSubType == 3): tickerSubType='DW'\n",
    "    elif(tickerSubType == 4): tickerSubType='W'\n",
    "    elif(tickerSubType == 5): tickerSubType='Convertible'\n",
    "    elif(tickerSubType == 6): tickerSubType='Preferred'\n",
    "    elif(tickerSubType == 7): tickerSubType='UnitTrust'\n",
    "\n",
    "    if(orderSide == 0):\n",
    "        orderSide='Buy'\n",
    "    elif(orderSide == 1):\n",
    "        orderSide='Sell'\n",
    "    elif(orderSide == 2):\n",
    "        orderSide='Short'\n",
    "    elif(orderSide == 3):\n",
    "        orderSide='Cover'\n",
    "\n",
    "    if(trend == 0):\n",
    "        trend='Up'\n",
    "    elif(trend == 1):\n",
    "        trend='-'\n",
    "    elif(trend == 2):\n",
    "        trend='Down'\n",
    "    elif(trend == 3):\n",
    "        trend='NoData'\n",
    "\n",
    "    if(intinstrumentType==0): # equity\n",
    "        priceDigit = 2;\n",
    "        pos=4\n",
    "    else:\n",
    "        priceDigit = unpack('>B',msg[4])[0];\n",
    "        pos=5\n",
    "        \n",
    "    total = {}\n",
    "    read=1; div=0; size = unpack('>B',msg[pos:pos+read])[0]/pow(10.,div); pos+=read;\n",
    "    size=int(size)\n",
    "    read=size; div=0; instrument = ''.join(msg[pos:pos+read]); pos+=read;\n",
    "\n",
    "    print pos\n",
    "    print len(msg)\n",
    "    if(ios == 0):\n",
    "        read=2; div=2; price = unpack('>H',msg[pos:pos+read])[0]/pow(10.,div); pos+=read;\n",
    "        read=2; div=2; change = unpack('>h',msg[pos:pos+read])[0]/pow(10.,div); pos+=read;\n",
    "    else:\n",
    "        read=4; div=2; price = unpack('>I',msg[pos:pos+read])[0]/pow(10.,div); pos+=read;\n",
    "        read=4; div=2; change = unpack('>i',msg[pos:pos+read])[0]/pow(10.,div); pos+=read;\n",
    "\n",
    "    read=4; div=0; seqID = int(unpack('>I',msg[pos:pos+read])[0]/pow(10.,div)); pos+=read;\n",
    "\n",
    "    if(sob==0):\n",
    "        read=1; div=0; volCount = int(unpack('>B',msg[pos:pos+read])[0]/pow(10.,div)); pos+=read;\n",
    "    else:\n",
    "        read=2; div=0; volCount = int(unpack('>H',msg[pos:pos+read])[0]/pow(10.,div)); pos+=read;\n",
    "\n",
    "    volumns=[]\n",
    "    for i in range(volCount):\n",
    "        if(iosV==0):\n",
    "            read=2; div=0; volumn = int(unpack('>H',msg[pos:pos+read])[0]/pow(10.,div)); pos+=read;\n",
    "        else:\n",
    "            read=4; div=0; volumn = int(unpack('>I',msg[pos:pos+read])[0]/pow(10.,div)); pos+=read;\n",
    "        volumns.append(volumn);\n",
    "\n",
    "    # print \"tickerType= \" + tickerSubType\n",
    "    # print \"orderSide= \" + orderSide\n",
    "    # print \"trend= \" + trend\n",
    "    # print \"isSum= \" + str(isSum)\n",
    "    print str(seqID)+\"\\t\"+str(instrument)+\"\\t\"+str(price)+\"\\t\" + str(change) + \"\\t\"+str(volCount)+\"\\t\"+ str(volumns)\n",
    "    sys.stdout.flush();"
   ]
  },
  {
   "cell_type": "code",
   "execution_count": null,
   "metadata": {
    "collapsed": true
   },
   "outputs": [],
   "source": []
  }
 ],
 "metadata": {
  "kernelspec": {
   "display_name": "Python 2",
   "language": "python",
   "name": "python2"
  },
  "language_info": {
   "codemirror_mode": {
    "name": "ipython",
    "version": 2
   },
   "file_extension": ".py",
   "mimetype": "text/x-python",
   "name": "python",
   "nbconvert_exporter": "python",
   "pygments_lexer": "ipython2",
   "version": "2.7.10"
  }
 },
 "nbformat": 4,
 "nbformat_minor": 0
}
